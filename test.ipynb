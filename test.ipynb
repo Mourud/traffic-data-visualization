{
 "cells": [
  {
   "cell_type": "code",
   "execution_count": 79,
   "metadata": {},
   "outputs": [],
   "source": [
    "import pandas as pd\n",
    "\n",
    "filepath_og = 'vehicle_registration_info.csv'\n",
    "dtype = {'oid': str, 'laden_weight': str, 'mobile_number': str, 'nationality': str, 'no_of_axle': str, 'owner_address': str, 'owner_name': str, 'registration_date': str, 'registration_number': str, 'registration_office_name': str, 'seating_capacity': str,'series_oid': str, 'tax_token_exp_date': str, 'tax_token_issue_date': str, 'unladen_weight': str, 'updated_by': str, 'updated_on': str, 'vehiclecc': str, 'vehicle_class': str, 'vehicle_colour': str, 'vehicle_number': str, 'vehicle_registration_number': str, 'vehicle_series': str, 'vehicle_type': str, 'zone_oid': str, 'bridge_oid': str,'user_oid': str\n",
    "}\n",
    "vehicle_registration_data = pd.read_csv(filepath_og, on_bad_lines='skip', index_col= 'oid', dtype = dtype)\n",
    "\n",
    "# convert joint_owner to boolean\n",
    "vehicle_registration_data['joint_owner'] = vehicle_registration_data['joint_owner'].map({'YES': True, 'NO': False})\n",
    "\n",
    "\n",
    "# drop columns with no useful information\n",
    "columns_to_drop = ['created_on', 'father_husbend_name', 'request_key','response_time','response_time_epoch']\n",
    "\n",
    "# drop columns with only one value\n",
    "for col in vehicle_registration_data.columns:\n",
    "    caridinality = vehicle_registration_data[col].nunique()\n",
    "    if caridinality < 10:\n",
    "        # print(col, \": \", caridinality )\n",
    "        # print(vehicle_registration_data[col].unique())\n",
    "        if caridinality == 1:\n",
    "            columns_to_drop.append(col)\n",
    "vehicle_registration_data_clean = vehicle_registration_data.drop(columns_to_drop, axis=1)\n",
    "\n",
    "# save data\n",
    "filepath_clean = 'vehicle_registration_info_clean.csv'\n",
    "vehicle_registration_data_clean.to_csv(filepath_clean)\n",
    "\n"
   ]
  },
  {
   "cell_type": "code",
   "execution_count": 72,
   "metadata": {},
   "outputs": [],
   "source": [
    "columns_to_drop = ['created_on', 'father_husbend_name', 'request_key','response_time','response_time_epoch']\n",
    "for col in vehicle_registration_data.columns:\n",
    "    caridinality = vehicle_registration_data[col].nunique()\n",
    "    if caridinality < 10:\n",
    "        # print(col, \": \", caridinality )\n",
    "        # print(vehicle_registration_data[col].unique())\n",
    "        if caridinality == 1:\n",
    "            columns_to_drop.append(col)\n",
    "\n",
    "vehicle_registration_data_clean = vehicle_registration_data.drop(columns_to_drop, axis=1)\n",
    "\n"
   ]
  },
  {
   "cell_type": "code",
   "execution_count": 73,
   "metadata": {},
   "outputs": [
    {
     "name": "stdout",
     "output_type": "stream",
     "text": [
      "Numerical:  Index(['laden_weight', 'no_of_axle', 'registration_number',\n",
      "       'response_time_epoch', 'seating_capacity', 'series_oid',\n",
      "       'unladen_weight', 'updated_by', 'updated_on', 'vehiclecc',\n",
      "       'vehicle_series', 'zone_oid', 'bridge_oid', 'user_oid'],\n",
      "      dtype='object')\n",
      "Categorical:  Index(['created_by', 'created_on', 'father_husbend_name', 'joint_owner',\n",
      "       'mobile_number', 'nationality', 'owner_address', 'owner_name',\n",
      "       'registration_date', 'registration_office_name', 'request_key',\n",
      "       'response_time', 'tax_token_exp_date', 'tax_token_issue_date',\n",
      "       'vehicle_class', 'vehicle_colour', 'vehicle_number',\n",
      "       'vehicle_registration_number', 'vehicle_type'],\n",
      "      dtype='object')\n"
     ]
    }
   ],
   "source": [
    "\n",
    "vehicle_registration_data_clean_nums = vehicle_registration_data.select_dtypes(exclude=['object'])\n",
    "vehicle_registration_data_clean_categorical = vehicle_registration_data.select_dtypes(include=['object'])\n",
    "print(\"Numerical: \", vehicle_registration_data_clean_nums.columns)\n",
    "print(\"Categorical: \", vehicle_registration_data_clean_categorical.columns)\n"
   ]
  },
  {
   "cell_type": "code",
   "execution_count": 74,
   "metadata": {},
   "outputs": [],
   "source": [
    "# save cleaned data\n",
    "filepath_clean = 'vehicle_registration_info_clean.csv'\n",
    "vehicle_registration_data_clean.to_csv(filepath_clean)\n",
    "\n",
    "\n"
   ]
  },
  {
   "cell_type": "code",
   "execution_count": 75,
   "metadata": {},
   "outputs": [
    {
     "name": "stderr",
     "output_type": "stream",
     "text": [
      "/opt/homebrew/Caskroom/miniconda/base/envs/license-plate/lib/python3.12/site-packages/seaborn/_oldcore.py:1119: FutureWarning: use_inf_as_na option is deprecated and will be removed in a future version. Convert inf values to NaN before operating instead.\n",
      "  with pd.option_context('mode.use_inf_as_na', True):\n"
     ]
    },
    {
     "name": "stdout",
     "output_type": "stream",
     "text": [
      "joint_owner\n",
      "NO     171694\n",
      "YES     11925\n",
      "Name: count, dtype: int64\n"
     ]
    },
    {
     "data": {
      "image/png": "[encoded data removed]",
      "text/plain": [
       "<Figure size 1000x500 with 1 Axes>"
      ]
     },
     "metadata": {},
     "output_type": "display_data"
    }
   ],
   "source": [
    "import matplotlib.pyplot as plt\n",
    "import seaborn as sns\n",
    "\n",
    "plt.figure(figsize=(10,5))\n",
    "sns.histplot(data = vehicle_registration_data_clean, x = 'joint_owner')\n",
    "plt.xlabel('Joint Owner')\n",
    "plt.title('Joint Owner Distribution')\n",
    "\n",
    "print(vehicle_registration_data_clean.joint_owner.value_counts())\n",
    "\n"
   ]
  },
  {
   "cell_type": "code",
   "execution_count": 76,
   "metadata": {},
   "outputs": [
    {
     "data": {
      "text/plain": [
       "27"
      ]
     },
     "execution_count": 76,
     "metadata": {},
     "output_type": "execute_result"
    }
   ],
   "source": [
    "len(vehicle_registration_data_clean.columns)"
   ]
  }
 ],
 "metadata": {
  "kernelspec": {
   "display_name": "base",
   "language": "python",
   "name": "python3"
  },
  "language_info": {
   "codemirror_mode": {
    "name": "ipython",
    "version": 3
   },
   "file_extension": ".py",
   "mimetype": "text/x-python",
   "name": "python",
   "nbconvert_exporter": "python",
   "pygments_lexer": "ipython3",
   "version": "3.12.1"
  }
 },
 "nbformat": 4,
 "nbformat_minor": 2
}
